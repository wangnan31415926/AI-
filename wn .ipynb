{
 "cells": [
  {
   "cell_type": "markdown",
   "metadata": {},
   "source": [
    "---"
   ]
  },
  {
   "cell_type": "code",
   "execution_count": 1,
   "metadata": {},
   "outputs": [],
   "source": [
    "wn_0='1234567890'\n",
    "wn_1='abnscde'\n",
    "wn_2='678768271682716'\n",
    "a='i'\n",
    "n='lov'\n",
    "buf=[wn_0,wn_1,wn_2,a,n]"
   ]
  },
  {
   "cell_type": "code",
   "execution_count": 2,
   "metadata": {},
   "outputs": [
    {
     "name": "stdout",
     "output_type": "stream",
     "text": [
      "['1234567890', 'abnscde', '678768271682716', 'i', 'lov']\n"
     ]
    }
   ],
   "source": [
    "print(buf)"
   ]
  },
  {
   "cell_type": "code",
   "execution_count": 3,
   "metadata": {},
   "outputs": [
    {
     "name": "stdout",
     "output_type": "stream",
     "text": [
      "['1234567890', 'abnscde', '678768271682716', 'i', 'lov']\n",
      "1234567890\n",
      "abnscde\n",
      "678768271682716\n",
      "i\n",
      "lov\n"
     ]
    }
   ],
   "source": [
    "print(buf)\n",
    "for i in buf:\n",
    "    print(i)"
   ]
  },
  {
   "cell_type": "markdown",
   "metadata": {},
   "source": [
    "上面这段代码只是为了演示 Jupyter notebook，这些不需要掌握哦，至少不需要现在掌握"
   ]
  },
  {
   "cell_type": "code",
   "execution_count": 4,
   "metadata": {},
   "outputs": [
    {
     "name": "stdout",
     "output_type": "stream",
     "text": [
      "{'名称': '123', '电话': 'dff'}\n"
     ]
    }
   ],
   "source": [
    "a={'名称':'123','电话':'dff'}\n",
    "print(a)"
   ]
  },
  {
   "cell_type": "code",
   "execution_count": 5,
   "metadata": {},
   "outputs": [
    {
     "name": "stdout",
     "output_type": "stream",
     "text": [
      "{'名称': 'wang', '电话': '11212121'}\n"
     ]
    }
   ],
   "source": [
    "b={'名称':'wang','电话':'11212121'}\n",
    "print(b)"
   ]
  },
  {
   "cell_type": "code",
   "execution_count": 6,
   "metadata": {},
   "outputs": [
    {
     "name": "stdout",
     "output_type": "stream",
     "text": [
      "尊敬的wang您好\n"
     ]
    }
   ],
   "source": [
    "print('尊敬的'+b['名称']+'您好')"
   ]
  },
  {
   "cell_type": "markdown",
   "metadata": {},
   "source": [
    "下面这行代码我们将在第3章中详细解释，保证亲一定能学得会"
   ]
  },
  {
   "cell_type": "code",
   "execution_count": 7,
   "metadata": {
    "scrolled": true
   },
   "outputs": [
    {
     "name": "stdout",
     "output_type": "stream",
     "text": [
      "Hello, World!\n"
     ]
    }
   ],
   "source": [
    "print('Hello, World!')"
   ]
  },
  {
   "cell_type": "code",
   "execution_count": 8,
   "metadata": {},
   "outputs": [
    {
     "name": "stdout",
     "output_type": "stream",
     "text": [
      "[{'名称': '123', '电话': 'dff'}, {'名称': 'wang', '电话': '11212121'}]\n",
      "hi 123,new year!\n",
      "hi wang,new year!\n"
     ]
    }
   ],
   "source": [
    "teacher=[a,b]\n",
    "print(teacher)\n",
    "for i in teacher:\n",
    "    print('hi '+i['名称']+',new year!')"
   ]
  },
  {
   "cell_type": "code",
   "execution_count": 9,
   "metadata": {},
   "outputs": [
    {
     "name": "stdout",
     "output_type": "stream",
     "text": [
      "比对错误\n"
     ]
    }
   ],
   "source": [
    "a=123\n",
    "if a==223:\n",
    "    print('比对正确')\n",
    "else:\n",
    "    print('比对错误')"
   ]
  },
  {
   "cell_type": "code",
   "execution_count": 10,
   "metadata": {},
   "outputs": [
    {
     "name": "stdout",
     "output_type": "stream",
     "text": [
      "尊敬的wn老师您好\n",
      "尊敬的li老师您好\n",
      "尊敬的zhao前辈您好\n",
      "数据错误ao\n"
     ]
    }
   ],
   "source": [
    "a={'名称':'wn','电话':'dff','关系':'老师'}\n",
    "b={'名称':'li','电话':'11212121','关系':'老师'}\n",
    "c={'名称':'zhao','电话':'11212121','关系':'长辈'}\n",
    "d={'名称':'ao','电话':'11212121','关系':'dd'}\n",
    "l=[a,b,c,d]\n",
    "for i in l:\n",
    "    if i['关系']=='老师':\n",
    "        print('尊敬的'+i['名称']+'老师您好')\n",
    "    else:\n",
    "        if i['关系']=='长辈':\n",
    "            print('尊敬的'+i['名称']+'前辈您好')\n",
    "        else:\n",
    "            print('数据错误'+i['名称'])                  "
   ]
  },
  {
   "cell_type": "code",
   "execution_count": 11,
   "metadata": {},
   "outputs": [
    {
     "name": "stdout",
     "output_type": "stream",
     "text": [
      "1\n",
      "2\n",
      "3\n",
      "4\n",
      "9\n",
      "\n",
      "0\n",
      "3\n",
      "r\n",
      "6\n",
      "7\n",
      "\n",
      "[1, 2, 3, 4, 9][0, 3, 'r', 6, 7]\n",
      "[1, 2, 3, 4, 9] [0, 3, 'r', 6, 7]\n"
     ]
    }
   ],
   "source": [
    "a=[1,2,3,4,9]\n",
    "b=[0,3,'r',6,7]\n",
    "c=[a,b]\n",
    "for i in c:\n",
    "    for j in i:\n",
    "        print(j)\n",
    "    print('')\n",
    "print(a,end='')\n",
    "print(b,end='')\n",
    "print('')\n",
    "print(a,b)"
   ]
  },
  {
   "cell_type": "code",
   "execution_count": null,
   "metadata": {},
   "outputs": [],
   "source": []
  },
  {
   "cell_type": "code",
   "execution_count": 12,
   "metadata": {},
   "outputs": [
    {
     "name": "stdout",
     "output_type": "stream",
     "text": [
      "0\n",
      "[0, 0, 0, 1, 0, 1, 0, 0, 0]\n",
      "0\n",
      "[0, 0, 0, 1]\n",
      "    .    \n",
      "   . .   \n",
      "  .   .  \n",
      " .     . \n",
      ".       .\n",
      " .     . \n",
      "  .   .  \n",
      "   . .   \n",
      "    .    \n"
     ]
    }
   ],
   "source": [
    "数据 = [[0, 0, 0, 0, 1, 0, 0, 0, 0],\n",
    "       [0, 0, 0, 1, 0, 1, 0, 0, 0],\n",
    "       [0, 0, 1, 0, 0, 0, 1, 0, 0],\n",
    "       [0, 1, 0, 0, 0, 0, 0, 1, 0],\n",
    "       [1, 0, 0, 0, 0, 0, 0, 0, 1],\n",
    "       [0, 1, 0, 0, 0, 0, 0, 1, 0],\n",
    "       [0, 0, 1, 0, 0, 0, 1, 0, 0],\n",
    "       [0, 0, 0, 1, 0, 1, 0, 0, 0],\n",
    "       [0, 0, 0, 0, 1, 0, 0, 0, 0]]\n",
    "d=数据[1]\n",
    "print(数据[1][0])\n",
    "print(d)\n",
    "print(d[1])\n",
    "print(d[0:4])\n",
    "for i in 数据:\n",
    "    for j in i:\n",
    "        if j==0:\n",
    "            print(' ',end='')\n",
    "        else:\n",
    "            print('.',end='')\n",
    "    print('')"
   ]
  },
  {
   "cell_type": "code",
   "execution_count": 24,
   "metadata": {},
   "outputs": [
    {
     "name": "stdout",
     "output_type": "stream",
     "text": [
      "Requirement already satisfied: pillow in /srv/conda/envs/notebook/lib/python3.7/site-packages (6.2.1)\r\n"
     ]
    },
    {
     "data": {
      "image/png": "[encoded data removed]",
      "text/plain": [
       "<PIL.JpegImagePlugin.JpegImageFile image mode=RGB size=96x128 at 0x7F32542D0390>"
      ]
     },
     "execution_count": 24,
     "metadata": {},
     "output_type": "execute_result"
    }
   ],
   "source": [
    "!pip install pillow\n",
    "from PIL import Image\n",
    "import io\n",
    "from urllib import request\n",
    "url='https://raw.githubusercontent.com/MachineIntellect/DeepLearner/b3429646bb615c0323d7fa5d69324179312cf7db/xhty70k.jpg'\n",
    "resp=request.urlopen(url)\n",
    "s=resp.read()\n",
    "im=Image.open(io.BytesIO(s))\n",
    "size=128,128\n",
    "im.thumbnail(size)\n",
    "im"
   ]
  },
  {
   "cell_type": "code",
   "execution_count": 17,
   "metadata": {},
   "outputs": [
    {
     "name": "stdout",
     "output_type": "stream",
     "text": [
      "Collecting matplotlib\n",
      "\u001b[?25l  Downloading https://files.pythonhosted.org/packages/19/7a/60bd79c5d79559150f8bba866dd7d434f0a170312e4d15e8aefa5faba294/matplotlib-3.1.1-cp37-cp37m-manylinux1_x86_64.whl (13.1MB)\n",
      "\u001b[K     |████████████████████████████████| 13.1MB 3.2MB/s eta 0:00:01\n",
      "\u001b[?25hRequirement already satisfied: python-dateutil>=2.1 in /srv/conda/envs/notebook/lib/python3.7/site-packages (from matplotlib) (2.8.0)\n",
      "Collecting cycler>=0.10 (from matplotlib)\n",
      "  Downloading https://files.pythonhosted.org/packages/f7/d2/e07d3ebb2bd7af696440ce7e754c59dd546ffe1bbe732c8ab68b9c834e61/cycler-0.10.0-py2.py3-none-any.whl\n",
      "Collecting numpy>=1.11 (from matplotlib)\n",
      "\u001b[?25l  Downloading https://files.pythonhosted.org/packages/9b/af/4fc72f9d38e43b092e91e5b8cb9956d25b2e3ff8c75aed95df5569e4734e/numpy-1.17.4-cp37-cp37m-manylinux1_x86_64.whl (20.0MB)\n",
      "\u001b[K     |████████████████████████████████| 20.0MB 27.2MB/s eta 0:00:01     |████████████████████████▋       | 15.4MB 27.2MB/s eta 0:00:01\n",
      "\u001b[?25hCollecting kiwisolver>=1.0.1 (from matplotlib)\n",
      "\u001b[?25l  Downloading https://files.pythonhosted.org/packages/93/f8/518fb0bb89860eea6ff1b96483fbd9236d5ee991485d0f3eceff1770f654/kiwisolver-1.1.0-cp37-cp37m-manylinux1_x86_64.whl (90kB)\n",
      "\u001b[K     |████████████████████████████████| 92kB 23.4MB/s eta 0:00:01\n",
      "\u001b[?25hCollecting pyparsing!=2.0.4,!=2.1.2,!=2.1.6,>=2.0.1 (from matplotlib)\n",
      "\u001b[?25l  Downloading https://files.pythonhosted.org/packages/c0/0c/fc2e007d9a992d997f04a80125b0f183da7fb554f1de701bbb70a8e7d479/pyparsing-2.4.5-py2.py3-none-any.whl (67kB)\n",
      "\u001b[K     |████████████████████████████████| 71kB 15.9MB/s eta 0:00:01\n",
      "\u001b[?25hRequirement already satisfied: six>=1.5 in /srv/conda/envs/notebook/lib/python3.7/site-packages (from python-dateutil>=2.1->matplotlib) (1.12.0)\n",
      "Requirement already satisfied: setuptools in /srv/conda/envs/notebook/lib/python3.7/site-packages (from kiwisolver>=1.0.1->matplotlib) (41.2.0)\n",
      "Installing collected packages: cycler, numpy, kiwisolver, pyparsing, matplotlib\n",
      "Successfully installed cycler-0.10.0 kiwisolver-1.1.0 matplotlib-3.1.1 numpy-1.17.4 pyparsing-2.4.5\n",
      "Populating the interactive namespace from numpy and matplotlib\n"
     ]
    },
    {
     "data": {
      "text/plain": [
       "[<matplotlib.lines.Line2D at 0x7f32645c65f8>]"
      ]
     },
     "execution_count": 17,
     "metadata": {},
     "output_type": "execute_result"
    },
    {
     "data": {
      "image/png": "[encoded data removed]",
      "text/plain": [
       "<Figure size 432x288 with 1 Axes>"
      ]
     },
     "metadata": {
      "needs_background": "light"
     },
     "output_type": "display_data"
    }
   ],
   "source": [
    "!pip install matplotlib\n",
    "%pylab inline\n",
    "plot(0,0,'o')"
   ]
  },
  {
   "cell_type": "code",
   "execution_count": null,
   "metadata": {},
   "outputs": [],
   "source": []
  }
 ],
 "metadata": {
  "kernelspec": {
   "display_name": "Python 3",
   "language": "python",
   "name": "python3"
  },
  "language_info": {
   "codemirror_mode": {
    "name": "ipython",
    "version": 3
   },
   "file_extension": ".py",
   "mimetype": "text/x-python",
   "name": "python",
   "nbconvert_exporter": "python",
   "pygments_lexer": "ipython3",
   "version": "3.7.3"
  }
 },
 "nbformat": 4,
 "nbformat_minor": 2
}
