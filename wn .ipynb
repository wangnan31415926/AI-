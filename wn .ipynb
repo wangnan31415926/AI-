{
 "cells": [
  {
   "cell_type": "markdown",
   "metadata": {},
   "source": [
    "---"
   ]
  },
  {
   "cell_type": "code",
   "execution_count": 1,
   "metadata": {},
   "outputs": [],
   "source": [
    "wn_0='1234567890'\n",
    "wn_1='abnscde'\n",
    "wn_2='678768271682716'\n",
    "a='i'\n",
    "n='lov'\n",
    "buf=[wn_0,wn_1,wn_2,a,n]"
   ]
  },
  {
   "cell_type": "code",
   "execution_count": 2,
   "metadata": {},
   "outputs": [
    {
     "name": "stdout",
     "output_type": "stream",
     "text": [
      "['1234567890', 'abnscde', '678768271682716', 'i', 'lov']\n"
     ]
    }
   ],
   "source": [
    "print(buf)"
   ]
  },
  {
   "cell_type": "code",
   "execution_count": 3,
   "metadata": {},
   "outputs": [
    {
     "name": "stdout",
     "output_type": "stream",
     "text": [
      "['1234567890', 'abnscde', '678768271682716', 'i', 'lov']\n",
      "1234567890\n",
      "abnscde\n",
      "678768271682716\n",
      "i\n",
      "lov\n"
     ]
    }
   ],
   "source": [
    "print(buf)\n",
    "for i in buf:\n",
    "    print(i)"
   ]
  },
  {
   "cell_type": "markdown",
   "metadata": {},
   "source": [
    "上面这段代码只是为了演示 Jupyter notebook，这些不需要掌握哦，至少不需要现在掌握"
   ]
  },
  {
   "cell_type": "code",
   "execution_count": 4,
   "metadata": {},
   "outputs": [
    {
     "name": "stdout",
     "output_type": "stream",
     "text": [
      "{'名称': '123', '电话': 'dff'}\n"
     ]
    }
   ],
   "source": [
    "a={'名称':'123','电话':'dff'}\n",
    "print(a)"
   ]
  },
  {
   "cell_type": "code",
   "execution_count": 5,
   "metadata": {},
   "outputs": [
    {
     "name": "stdout",
     "output_type": "stream",
     "text": [
      "{'名称': 'wang', '电话': '11212121'}\n"
     ]
    }
   ],
   "source": [
    "b={'名称':'wang','电话':'11212121'}\n",
    "print(b)"
   ]
  },
  {
   "cell_type": "code",
   "execution_count": 6,
   "metadata": {},
   "outputs": [
    {
     "name": "stdout",
     "output_type": "stream",
     "text": [
      "尊敬的wang您好\n"
     ]
    }
   ],
   "source": [
    "print('尊敬的'+b['名称']+'您好')"
   ]
  },
  {
   "cell_type": "markdown",
   "metadata": {},
   "source": [
    "下面这行代码我们将在第3章中详细解释，保证亲一定能学得会"
   ]
  },
  {
   "cell_type": "code",
   "execution_count": 7,
   "metadata": {
    "scrolled": true
   },
   "outputs": [
    {
     "name": "stdout",
     "output_type": "stream",
     "text": [
      "Hello, World!\n"
     ]
    }
   ],
   "source": [
    "print('Hello, World!')"
   ]
  },
  {
   "cell_type": "code",
   "execution_count": 11,
   "metadata": {},
   "outputs": [
    {
     "name": "stdout",
     "output_type": "stream",
     "text": [
      "[{'名称': '123', '电话': 'dff'}, {'名称': 'wang', '电话': '11212121'}]\n",
      "hi 123,new year!\n",
      "hi wang,new year!\n"
     ]
    }
   ],
   "source": [
    "teacher=[a,b]\n",
    "print(teacher)\n",
    "for i in teacher:\n",
    "    print('hi '+i['名称']+',new year!')"
   ]
  },
  {
   "cell_type": "code",
   "execution_count": 15,
   "metadata": {},
   "outputs": [
    {
     "name": "stdout",
     "output_type": "stream",
     "text": [
      "比对错误\n"
     ]
    }
   ],
   "source": [
    "a=123\n",
    "if a==223:\n",
    "    print('比对正确')\n",
    "else:\n",
    "    print('比对错误')"
   ]
  },
  {
   "cell_type": "code",
   "execution_count": 25,
   "metadata": {},
   "outputs": [
    {
     "name": "stdout",
     "output_type": "stream",
     "text": [
      "尊敬的wn老师您好\n",
      "尊敬的li老师您好\n",
      "尊敬的zhao前辈您好\n",
      "数据错误ao\n"
     ]
    }
   ],
   "source": [
    "a={'名称':'wn','电话':'dff','关系':'老师'}\n",
    "b={'名称':'li','电话':'11212121','关系':'老师'}\n",
    "c={'名称':'zhao','电话':'11212121','关系':'长辈'}\n",
    "d={'名称':'ao','电话':'11212121','关系':'dd'}\n",
    "l=[a,b,c,d]\n",
    "for i in l:\n",
    "    if i['关系']=='老师':\n",
    "        print('尊敬的'+i['名称']+'老师您好')\n",
    "    else:\n",
    "        if i['关系']=='长辈':\n",
    "            print('尊敬的'+i['名称']+'前辈您好')\n",
    "        else:\n",
    "            print('数据错误'+i['名称'])                  "
   ]
  },
  {
   "cell_type": "code",
   "execution_count": null,
   "metadata": {},
   "outputs": [],
   "source": []
  }
 ],
 "metadata": {
  "kernelspec": {
   "display_name": "Python 3",
   "language": "python",
   "name": "python3"
  },
  "language_info": {
   "codemirror_mode": {
    "name": "ipython",
    "version": 3
   },
   "file_extension": ".py",
   "mimetype": "text/x-python",
   "name": "python",
   "nbconvert_exporter": "python",
   "pygments_lexer": "ipython3",
   "version": "3.7.3"
  }
 },
 "nbformat": 4,
 "nbformat_minor": 2
}
